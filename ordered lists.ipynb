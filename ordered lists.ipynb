<!DOCTYPE html>
<html lang="en">
<head>
    <meta charset="UTF-8">
    <meta name="viewport" content="width=<device-width>, initial-scale=1.0">
    <title>Places I would like to visit most</title>
</head>
<body>
    <h1>Places I am fond of:</h1>
    <ol>
        <a href="https://en.wikipedia.org/wiki/Sikkim"><li>Sikkim</li></a>Firstplace to visit
        <a href="https://en.wikipedia.org/wiki/Ladakh"></a><li>Ladakh</li></a>Second place to visit
        <a href="https://en.wikipedia.org/wiki/Kodagu_district"><li>Coorg</li></a>Third place to visit
        <a href="https://en.wikipedia.org/wiki/Manali"><li>Manali</li></a>Fourth place to visit
        <a href="https://en.wikipedia.org/wiki/Kashmir"><li>Kashmir</li></a>Fifth place to visit
        <a href="https://www.facebook.com/jvtda/"><li>Jibhi</li></a>Sixth place to visit
        <a href="https://en.wikipedia.org/wiki/Sri_Lanka"><li>Srilanka</li></a>Seventh place to visit
        <a href="https://en.wikipedia.org/wiki/Maldives"><li>Maldives</li></a>Eighth place to visit
        <a href="https://en.wikipedia.org/wiki/Kanyakumari"><li>kanyakumari</li></a>Nineth place to visit
        <a href="https://en.wikipedia.org/wiki/Indonesia"><li>Indonesia</li></a>Tenth place to visit
    </ol>
    <ul>
        <li>First</li>
            <li>Second</li>
                <li>Third</li>
                    <li>Fourth</li>
                        <li>Fifth</li>
    </ul>
</body>
</html>